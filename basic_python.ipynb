{
 "cells": [
  {
   "cell_type": "code",
   "execution_count": 34,
   "metadata": {},
   "outputs": [
    {
     "name": "stdout",
     "output_type": "stream",
     "text": [
      "[21, 23, 25, 27, 29, 31, 33, 35, 37, 39, 41, 43, 45, 47, 49, 51, 53, 55, 57, 59, 61, 63, 65, 67, 69, 71, 73, 75, 77, 79, 81, 83, 85, 87, 89, 91, 93, 95, 97, 99, 101, 103, 105, 107, 109, 111, 113, 115, 117, 119]\n"
     ]
    }
   ],
   "source": [
    "ls1=[]\n",
    "start = 20\n",
    "end = 121\n",
    "for num in range (start, end):\n",
    "    if num %2!=0:\n",
    "        ls1.append(num)\n",
    "print(ls1)\n"
   ]
  },
  {
   "cell_type": "code",
   "execution_count": 31,
   "metadata": {},
   "outputs": [
    {
     "name": "stdout",
     "output_type": "stream",
     "text": [
      "{'21': 21, '23': 23, '25': 25, '27': 27, '29': 29, '31': 31, '33': 33, '35': 35, '37': 37, '39': 39, '41': 41, '43': 43, '45': 45, '47': 47, '49': 49, '51': 51, '53': 53, '55': 55, '57': 57, '59': 59, '61': 61, '63': 63, '65': 65, '67': 67, '69': 69, '71': 71, '73': 73, '75': 75, '77': 77, '79': 79, '81': 81, '83': 83, '85': 85, '87': 87, '89': 89, '91': 91, '93': 93, '95': 95, '97': 97, '99': 99, '101': 101, '103': 103, '105': 105, '107': 107, '109': 109, '111': 111, '113': 113, '115': 115, '117': 117, '119': 119}\n"
     ]
    }
   ],
   "source": [
    "dict1 = {}\n",
    "ls= range (20,120)\n",
    "for num in ls:\n",
    "    if num %2!=0:\n",
    "        dict1[str(num)]= num\n",
    "print(dict1)\n"
   ]
  },
  {
   "cell_type": "code",
   "execution_count": 32,
   "metadata": {},
   "outputs": [
    {
     "name": "stdout",
     "output_type": "stream",
     "text": [
      "91\n"
     ]
    }
   ],
   "source": [
    "print(dict1['91'])"
   ]
  },
  {
   "cell_type": "code",
   "execution_count": 45,
   "metadata": {},
   "outputs": [
    {
     "name": "stdout",
     "output_type": "stream",
     "text": [
      "[1, 4, 9, 16, 25, 36, 49, 64, 81, 100, 121]\n"
     ]
    }
   ],
   "source": [
    "\n",
    "lis2 = []\n",
    "for num in range (1,12):\n",
    "    num = num*num\n",
    "    lis2.append(num)\n",
    "print(lis2)"
   ]
  },
  {
   "cell_type": "code",
   "execution_count": 46,
   "metadata": {},
   "outputs": [
    {
     "name": "stdout",
     "output_type": "stream",
     "text": [
      "[1, 4, 9, 16, 21, 23, 25, 27, 29, 31, 33, 35, 36, 37, 39, 41, 43, 45, 47, 49, 51, 53, 55, 57, 59, 61, 63, 64, 65, 67, 69, 71, 73, 75, 77, 79, 81, 83, 85, 87, 89, 91, 93, 95, 97, 99, 100, 101, 103, 105, 107, 109, 111, 113, 115, 117, 119, 121]\n"
     ]
    }
   ],
   "source": [
    "newList = set(ls1+lis2)\n",
    "print(list(newList))"
   ]
  },
  {
   "cell_type": "code",
   "execution_count": 49,
   "metadata": {},
   "outputs": [
    {
     "name": "stdout",
     "output_type": "stream",
     "text": [
      "[21, 23, 25, 27, 29, 31, 33, 35, 37, 39, 41, 43, 45, 47, 49, 51, 53, 55, 57, 59, 61, 63, 65, 67, 69, 71, 73, 75, 77, 79, 81, 83, 85, 87, 89, 91, 93, 95, 97, 99, 101, 103, 105, 107, 109, 111, 113, 115, 117, 119]\n"
     ]
    }
   ],
   "source": [
    "comp_ls = [num for num in range (20,121) if num %2!=0]\n",
    "print (comp_ls)"
   ]
  },
  {
   "cell_type": "code",
   "execution_count": 50,
   "metadata": {},
   "outputs": [
    {
     "name": "stdout",
     "output_type": "stream",
     "text": [
      "[2, 4, 6, 8, 10, 12, 14, 16, 18, 20, 22, 24, 26, 28, 30, 32, 34, 36, 38, 40, 42, 44, 46, 48, 50, 52, 54, 56, 58, 60, 62, 64, 66, 68, 70, 72, 74, 76, 78, 80, 82, 84, 86, 88, 90, 92, 94, 96, 98, 100, 102, 104, 106, 108, 110, 112, 114, 116, 118, 120, 122, 124, 126, 128]\n"
     ]
    }
   ],
   "source": [
    "comp_ls = [num for num in range(2,130)if num%2==0]\n",
    "print(comp_ls)"
   ]
  },
  {
   "cell_type": "code",
   "execution_count": 53,
   "metadata": {},
   "outputs": [
    {
     "name": "stdout",
     "output_type": "stream",
     "text": [
      "{'21': 21, '23': 23, '25': 25, '27': 27, '29': 29, '31': 31, '33': 33, '35': 35, '37': 37, '39': 39, '41': 41, '43': 43, '45': 45, '47': 47, '49': 49, '51': 51, '53': 53, '55': 55, '57': 57, '59': 59, '61': 61, '63': 63, '65': 65, '67': 67, '69': 69, '71': 71, '73': 73, '75': 75, '77': 77, '79': 79, '81': 81, '83': 83, '85': 85, '87': 87, '89': 89, '91': 91, '93': 93, '95': 95, '97': 97, '99': 99, '101': 101, '103': 103, '105': 105, '107': 107, '109': 109, '111': 111, '113': 113, '115': 115, '117': 117, '119': 119}\n"
     ]
    }
   ],
   "source": [
    "comp_dict = {str(var):var for var in range (20,121)if var%2!=0}\n",
    "print (comp_dict)"
   ]
  },
  {
   "cell_type": "markdown",
   "metadata": {},
   "source": []
  },
  {
   "cell_type": "markdown",
   "metadata": {},
   "source": [
    "#This is Python Comprehensions\n",
    "\n",
    "##Write less code with Comprehensions\n",
    "*Check what around \n",
    "_comprehensions really make coding simple\n"
   ]
  },
  {
   "cell_type": "code",
   "execution_count": null,
   "metadata": {},
   "outputs": [],
   "source": [
    "import numpy as np\n",
    "a=np.array([(17,12,np.nan,3),(30,np.nan,44,59),(78,34,98,12),(22,np.nan,78,np.nan)])\n"
   ]
  }
 ],
 "metadata": {
  "kernelspec": {
   "display_name": "Python 3",
   "language": "python",
   "name": "python3"
  },
  "language_info": {
   "codemirror_mode": {
    "name": "ipython",
    "version": 3
   },
   "file_extension": ".py",
   "mimetype": "text/x-python",
   "name": "python",
   "nbconvert_exporter": "python",
   "pygments_lexer": "ipython3",
   "version": "3.7.6"
  }
 },
 "nbformat": 4,
 "nbformat_minor": 4
}
